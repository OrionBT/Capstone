{
 "cells": [
  {
   "cell_type": "code",
   "execution_count": 2,
   "id": "35797b1c",
   "metadata": {},
   "outputs": [],
   "source": [
    "import matplotlib.pyplot as plt\n",
    "import pandas as pd\n",
    "import numpy as np\n",
    "import math \n",
    "import ipywidgets as widgets\n",
    "import seaborn as sns\n",
    "from IPython.display import display"
   ]
  },
  {
   "cell_type": "code",
   "execution_count": 3,
   "id": "de812726",
   "metadata": {},
   "outputs": [],
   "source": [
    "df = pd.read_csv('https://github.com/OrionBT/Capstone/blob/master/AllCleanedData.csv')\n"
   ]
  },
  {
   "cell_type": "code",
   "execution_count": 4,
   "id": "fa08e196",
   "metadata": {},
   "outputs": [],
   "source": [
    "def linRegressionGraph(year):\n",
    "    newDF = df.loc[df['Index Year'] == year, ['Overall Score', 'HDI']]\n",
    "    x=newDF[\"Overall Score\"]\n",
    "    y=newDF[\"HDI\"]\n",
    "    fig, ax = plt.subplots(figsize = (10, 10))\n",
    "\n",
    "    ax.scatter(x, y)\n",
    "\n",
    "    a, c = np.polyfit(x, y, deg=1)\n",
    "\n",
    "    xseq = np.linspace(0, 100)\n",
    "\n",
    "    ax.plot(xseq, a * xseq + c)\n",
    "    print('y='+str(a)+'x+'+str(c))\n",
    "    print('correlation coefficient equals', np.corrcoef(x, y)[0,1])\n",
    "    "
   ]
  },
  {
   "cell_type": "code",
   "execution_count": 5,
   "id": "83a1af00",
   "metadata": {},
   "outputs": [],
   "source": [
    "def kdePlotHDI(year, band_width):    \n",
    "    yearDF = df.loc[df['Index Year'] == year, ['HDI']]\n",
    "    sns.kdeplot(yearDF.HDI, lw=3, fill=True, bw_adjust=band_width)\n",
    "    plt.xlim(0, 1.2)\n",
    "    plt.ylim(0, 5)"
   ]
  },
  {
   "cell_type": "code",
   "execution_count": 6,
   "id": "7e4a1517",
   "metadata": {},
   "outputs": [],
   "source": [
    "def kdePlotFreedom(year, band_width):\n",
    "    yearDF1 = df.loc[df['Index Year'] == year, ['Overall Score']]\n",
    "    sns.kdeplot(yearDF1['Overall Score'], lw=3, fill=True, bw_adjust=band_width)\n",
    "    plt.xlim(0, 102)\n",
    "    plt.ylim(0, .05)"
   ]
  },
  {
   "cell_type": "code",
   "execution_count": 7,
   "id": "e1c2421c",
   "metadata": {},
   "outputs": [],
   "source": [
    "def HDI_LinePlot(country):\n",
    "    countryDF = df.loc[df['Country'] == country, ['Index Year', 'HDI', 'Overall Score']]\n",
    "    y1 = countryDF['HDI']\n",
    "    y2 = countryDF['Overall Score']/100\n",
    "    x = countryDF['Index Year']\n",
    "    \n",
    "    plt.plot(x, y1, \"-b\", label=\"HDI\")\n",
    "    plt.plot(x, y2, \"-r\", label=\"Freedom Score\")\n",
    "    plt.legend(loc=\"upper left\")"
   ]
  },
  {
   "cell_type": "code",
   "execution_count": 8,
   "id": "2f807de3",
   "metadata": {},
   "outputs": [
    {
     "data": {
      "application/vnd.jupyter.widget-view+json": {
       "model_id": "0ee20f11cbf34f048fd62d9c998e6f39",
       "version_major": 2,
       "version_minor": 0
      },
      "text/plain": [
       "interactive(children=(Dropdown(description='country', options=('Afghanistan', 'Albania', 'Angola', 'Armenia', …"
      ]
     },
     "metadata": {},
     "output_type": "display_data"
    },
    {
     "data": {
      "text/plain": [
       "<function __main__.HDI_LinePlot(country)>"
      ]
     },
     "execution_count": 8,
     "metadata": {},
     "output_type": "execute_result"
    }
   ],
   "source": [
    "countryDF = df.loc[:, ['Country']].drop_duplicates()\n",
    "\n",
    "countryList = countryDF.Country.to_list()\n",
    "\n",
    "widgets.interact(HDI_LinePlot, country=countryList)\n"
   ]
  },
  {
   "cell_type": "code",
   "execution_count": 9,
   "id": "a066b994",
   "metadata": {},
   "outputs": [
    {
     "data": {
      "application/vnd.jupyter.widget-view+json": {
       "model_id": "77cdf64d13514c1fba6bdada717482e0",
       "version_major": 2,
       "version_minor": 0
      },
      "text/plain": [
       "interactive(children=(IntSlider(value=2011, description='year', max=2018, min=2005), FloatSlider(value=0.55, d…"
      ]
     },
     "metadata": {},
     "output_type": "display_data"
    },
    {
     "data": {
      "text/plain": [
       "<function __main__.kdePlotFreedom(year, band_width)>"
      ]
     },
     "execution_count": 9,
     "metadata": {},
     "output_type": "execute_result"
    }
   ],
   "source": [
    "widgets.interact(kdePlotFreedom, year=(2005,2018), band_width=(.1,1))"
   ]
  },
  {
   "cell_type": "code",
   "execution_count": 10,
   "id": "45e810c6",
   "metadata": {},
   "outputs": [
    {
     "data": {
      "application/vnd.jupyter.widget-view+json": {
       "model_id": "81701afec307481684c6863d17ae85ac",
       "version_major": 2,
       "version_minor": 0
      },
      "text/plain": [
       "interactive(children=(IntSlider(value=2011, description='year', max=2018, min=2005), FloatSlider(value=0.55, d…"
      ]
     },
     "metadata": {},
     "output_type": "display_data"
    },
    {
     "data": {
      "text/plain": [
       "<function __main__.kdePlotHDI(year, band_width)>"
      ]
     },
     "execution_count": 10,
     "metadata": {},
     "output_type": "execute_result"
    }
   ],
   "source": [
    "widgets.interact(kdePlotHDI, year=(2005, 2018), band_width=(.1,1))"
   ]
  },
  {
   "cell_type": "code",
   "execution_count": null,
   "id": "df695df2",
   "metadata": {},
   "outputs": [],
   "source": []
  },
  {
   "cell_type": "code",
   "execution_count": 11,
   "id": "3dfbd387",
   "metadata": {},
   "outputs": [
    {
     "data": {
      "application/vnd.jupyter.widget-view+json": {
       "model_id": "f73da279b3fe4e10916e1b512eb78698",
       "version_major": 2,
       "version_minor": 0
      },
      "text/plain": [
       "interactive(children=(IntSlider(value=2011, description='year', max=2018, min=2005), Output()), _dom_classes=(…"
      ]
     },
     "metadata": {},
     "output_type": "display_data"
    },
    {
     "data": {
      "text/plain": [
       "<function __main__.linRegressionGraph(year)>"
      ]
     },
     "execution_count": 11,
     "metadata": {},
     "output_type": "execute_result"
    }
   ],
   "source": [
    "widgets.interact(linRegressionGraph, year=(2005, 2018))"
   ]
  },
  {
   "cell_type": "code",
   "execution_count": 12,
   "id": "8a77f9f1",
   "metadata": {},
   "outputs": [],
   "source": [
    "from statistics import mean\n",
    "def predictHDI(PR, GI, TB, GS, BF, LF, MF, TF, IF, FF):\n",
    "    OS = mean([PR, GI, TB, GS, BF, LF, MF, TF, IF, FF])\n",
    "    data = [[OS, PR, GI, TB, GS, BF, LF, MF, TF, IF, FF]]\n",
    "    df1 = pd.DataFrame(data, columns = ['Overall Score', 'Property Rights', 'Government Integrity', 'Tax Burden', 'Government Spending', 'Business Freedom', 'Labor Freedom', 'Monetary Freedom', 'Trade Freedom', 'Investment Freedom', 'Financial Freedom'])\n",
    "    pred = model.predict(df1)\n",
    "    print(\"Predicted HDI:\")\n",
    "    return pred[0]"
   ]
  },
  {
   "cell_type": "code",
   "execution_count": 13,
   "id": "584ea2ca",
   "metadata": {},
   "outputs": [
    {
     "data": {
      "text/plain": [
       "0.8763147295490287"
      ]
     },
     "execution_count": 13,
     "metadata": {},
     "output_type": "execute_result"
    }
   ],
   "source": [
    "from sklearn.ensemble import RandomForestRegressor\n",
    "from sklearn.model_selection import train_test_split\n",
    "\n",
    "#set up random seed\n",
    "\n",
    "np.random.seed(42)\n",
    "X = df.drop(['Country', 'Index Year', 'HDI'], axis=1)\n",
    "y = df['HDI']\n",
    "\n",
    "X_train, X_test, y_train, y_test = train_test_split(X, y, test_size=0.2)\n",
    "\n",
    "model = RandomForestRegressor()\n",
    "model.fit(X_train, y_train)\n",
    "\n",
    "model.score(X_test, y_test)\n",
    "\n"
   ]
  },
  {
   "cell_type": "code",
   "execution_count": 14,
   "id": "84278484",
   "metadata": {},
   "outputs": [],
   "source": [
    "def floatBox(str):\n",
    "   return widgets.BoundedFloatText(\n",
    "value=50,\n",
    "min=0,\n",
    "max=100,\n",
    "step=0.1,\n",
    "description=str,\n",
    "disabled=False)"
   ]
  },
  {
   "cell_type": "code",
   "execution_count": 15,
   "id": "1e3c4243",
   "metadata": {},
   "outputs": [
    {
     "data": {
      "application/vnd.jupyter.widget-view+json": {
       "model_id": "c9aa53dcac684b5293047f7655515bc7",
       "version_major": 2,
       "version_minor": 0
      },
      "text/plain": [
       "interactive(children=(BoundedFloatText(value=50.0, description='Property Rights', step=0.1), BoundedFloatText(…"
      ]
     },
     "metadata": {},
     "output_type": "display_data"
    },
    {
     "data": {
      "text/plain": [
       "<function __main__.predictHDI(PR, GI, TB, GS, BF, LF, MF, TF, IF, FF)>"
      ]
     },
     "execution_count": 15,
     "metadata": {},
     "output_type": "execute_result"
    }
   ],
   "source": [
    "PR=floatBox('Property Rights')\n",
    "GI=floatBox('Government Integrity')\n",
    "TB=floatBox('Tax Burden')\n",
    "GS=floatBox('Government Spending')\n",
    "BF=floatBox('Business Freedom')\n",
    "LF=floatBox('Labor Freedom')\n",
    "MF=floatBox('Monetary Freedom')\n",
    "TF=floatBox('Trade Freedom')\n",
    "IF=floatBox('Investment Freedom')\n",
    "FF=floatBox('Financial Freedom')\n",
    "\n",
    "#display(PR), display(GI), display(TB), display(GS), display(BF), display(LF), display(MF), display(TF), display(IF), display(FF)\n",
    "\n",
    "#predictHDI(PR.value, GI.value, TB.value, GS.value, BF.value, LF.value, MF.value, TF.value, IF.value, FF.value)\n",
    "\n",
    "widgets.interact(predictHDI, PR=PR, GI=GI, TB=TB, GS=GS, BF=BF, LF=LF, MF=MF, TF=TF, IF=IF, FF=FF)\n",
    "#print(\"Projected HDI\")"
   ]
  },
  {
   "cell_type": "code",
   "execution_count": null,
   "id": "503751ac",
   "metadata": {},
   "outputs": [],
   "source": []
  }
 ],
 "metadata": {
  "kernelspec": {
   "display_name": "Python 3 (ipykernel)",
   "language": "python",
   "name": "python3"
  },
  "language_info": {
   "codemirror_mode": {
    "name": "ipython",
    "version": 3
   },
   "file_extension": ".py",
   "mimetype": "text/x-python",
   "name": "python",
   "nbconvert_exporter": "python",
   "pygments_lexer": "ipython3",
   "version": "3.10.5"
  }
 },
 "nbformat": 4,
 "nbformat_minor": 5
}
