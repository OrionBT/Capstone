{
 "cells": [
  {
   "cell_type": "code",
   "execution_count": 1,
   "id": "35797b1c",
   "metadata": {},
   "outputs": [],
   "source": [
    "import matplotlib.pyplot as plt\n",
    "import pandas as pd\n",
    "import numpy as np\n",
    "import math \n",
    "import ipywidgets as widgets\n",
    "import seaborn as sns\n",
    "from IPython.display import display"
   ]
  },
  {
   "cell_type": "code",
   "execution_count": 2,
   "id": "de812726",
   "metadata": {},
   "outputs": [],
   "source": [
    "df = pd.read_csv('AllCleanedData.csv')\n"
   ]
  },
  {
   "cell_type": "code",
   "execution_count": 3,
   "id": "fa08e196",
   "metadata": {},
   "outputs": [],
   "source": [
    "def linRegressionGraph(year):\n",
    "    newDF = df.loc[df['Index Year'] == year, ['Overall Score', 'HDI']]\n",
    "    x=newDF[\"Overall Score\"]\n",
    "    y=newDF[\"HDI\"]\n",
    "    fig, ax = plt.subplots(figsize = (10, 10))\n",
    "\n",
    "    ax.scatter(x, y)\n",
    "\n",
    "    a, c = np.polyfit(x, y, deg=1)\n",
    "\n",
    "    xseq = np.linspace(0, 100)\n",
    "\n",
    "    ax.plot(xseq, a * xseq + c)\n",
    "    print('y='+str(a)+'x+'+str(c))\n",
    "    print('correlation coefficient equals', np.corrcoef(x, y)[0,1])\n",
    "    "
   ]
  },
  {
   "cell_type": "code",
   "execution_count": 4,
   "id": "83a1af00",
   "metadata": {},
   "outputs": [],
   "source": [
    "def kdePlotHDI(year, band_width):    \n",
    "    yearDF = df.loc[df['Index Year'] == year, ['HDI']]\n",
    "    sns.kdeplot(yearDF.HDI, lw=3, fill=True, bw_adjust=band_width)\n",
    "    plt.xlim(0, 1.2)\n",
    "    plt.ylim(0, 5)"
   ]
  },
  {
   "cell_type": "code",
   "execution_count": 5,
   "id": "7e4a1517",
   "metadata": {},
   "outputs": [],
   "source": [
    "def kdePlotFreedom(year, band_width):\n",
    "    yearDF1 = df.loc[df['Index Year'] == year, ['Overall Score']]\n",
    "    sns.kdeplot(yearDF1['Overall Score'], lw=3, fill=True, bw_adjust=band_width)\n",
    "    plt.xlim(0, 102)\n",
    "    plt.ylim(0, .05)"
   ]
  },
  {
   "cell_type": "code",
   "execution_count": 6,
   "id": "e1c2421c",
   "metadata": {},
   "outputs": [],
   "source": [
    "def HDI_LinePlot(country):\n",
    "    countryDF = df.loc[df['Country'] == country, ['Index Year', 'HDI', 'Overall Score']]\n",
    "    y1 = countryDF['HDI']\n",
    "    y2 = countryDF['Overall Score']/100\n",
    "    x = countryDF['Index Year']\n",
    "    \n",
    "    plt.plot(x, y1, \"-b\", label=\"HDI\")\n",
    "    plt.plot(x, y2, \"-r\", label=\"Freedom Score\")\n",
    "    plt.legend(loc=\"upper left\")"
   ]
  },
  {
   "cell_type": "code",
   "execution_count": 7,
   "id": "2f807de3",
   "metadata": {},
   "outputs": [
    {
     "data": {
      "application/vnd.jupyter.widget-view+json": {
       "model_id": "1a3bab2d266e4b2abda7517327b3c879",
       "version_major": 2,
       "version_minor": 0
      },
      "text/plain": [
       "interactive(children=(Dropdown(description='country', options=('Afghanistan', 'Albania', 'Angola', 'Armenia', …"
      ]
     },
     "metadata": {},
     "output_type": "display_data"
    },
    {
     "data": {
      "text/plain": [
       "<function __main__.HDI_LinePlot(country)>"
      ]
     },
     "execution_count": 7,
     "metadata": {},
     "output_type": "execute_result"
    }
   ],
   "source": [
    "countryDF = df.loc[:, ['Country']].drop_duplicates()\n",
    "\n",
    "countryList = countryDF.Country.to_list()\n",
    "\n",
    "widgets.interact(HDI_LinePlot, country=countryList)\n"
   ]
  },
  {
   "cell_type": "code",
   "execution_count": 8,
   "id": "a066b994",
   "metadata": {},
   "outputs": [
    {
     "data": {
      "application/vnd.jupyter.widget-view+json": {
       "model_id": "aaac93284f16495e8a31124eb3bc0d03",
       "version_major": 2,
       "version_minor": 0
      },
      "text/plain": [
       "interactive(children=(IntSlider(value=2011, description='year', max=2018, min=2005), FloatSlider(value=0.55, d…"
      ]
     },
     "metadata": {},
     "output_type": "display_data"
    },
    {
     "data": {
      "text/plain": [
       "<function __main__.kdePlotFreedom(year, band_width)>"
      ]
     },
     "execution_count": 8,
     "metadata": {},
     "output_type": "execute_result"
    }
   ],
   "source": [
    "widgets.interact(kdePlotFreedom, year=(2005,2018), band_width=(.1,1))"
   ]
  },
  {
   "cell_type": "code",
   "execution_count": 9,
   "id": "45e810c6",
   "metadata": {},
   "outputs": [
    {
     "data": {
      "application/vnd.jupyter.widget-view+json": {
       "model_id": "99b734fe63bf4ef3b34b72ef3d84bc62",
       "version_major": 2,
       "version_minor": 0
      },
      "text/plain": [
       "interactive(children=(IntSlider(value=2011, description='year', max=2018, min=2005), FloatSlider(value=0.55, d…"
      ]
     },
     "metadata": {},
     "output_type": "display_data"
    },
    {
     "data": {
      "text/plain": [
       "<function __main__.kdePlotHDI(year, band_width)>"
      ]
     },
     "execution_count": 9,
     "metadata": {},
     "output_type": "execute_result"
    }
   ],
   "source": [
    "widgets.interact(kdePlotHDI, year=(2005, 2018), band_width=(.1,1))"
   ]
  },
  {
   "cell_type": "code",
   "execution_count": null,
   "id": "df695df2",
   "metadata": {},
   "outputs": [],
   "source": []
  },
  {
   "cell_type": "code",
   "execution_count": 10,
   "id": "3dfbd387",
   "metadata": {},
   "outputs": [
    {
     "data": {
      "application/vnd.jupyter.widget-view+json": {
       "model_id": "52f48390e812437199f881c7210bc56a",
       "version_major": 2,
       "version_minor": 0
      },
      "text/plain": [
       "interactive(children=(IntSlider(value=2011, description='year', max=2018, min=2005), Output()), _dom_classes=(…"
      ]
     },
     "metadata": {},
     "output_type": "display_data"
    },
    {
     "data": {
      "text/plain": [
       "<function __main__.linRegressionGraph(year)>"
      ]
     },
     "execution_count": 10,
     "metadata": {},
     "output_type": "execute_result"
    }
   ],
   "source": [
    "widgets.interact(linRegressionGraph, year=(2005, 2018))"
   ]
  },
  {
   "cell_type": "code",
   "execution_count": 11,
   "id": "8a77f9f1",
   "metadata": {},
   "outputs": [],
   "source": [
    "from statistics import mean\n",
    "def predictHDI(PR, GI, TB, GS, BF, LF, MF, TF, IF, FF):\n",
    "    OS = mean([PR, GI, TB, GS, BF, LF, MF, TF, IF, FF])\n",
    "    data = [[OS, PR, GI, TB, GS, BF, LF, MF, TF, IF, FF]]\n",
    "    df1 = pd.DataFrame(data, columns = ['Overall Score', 'Property Rights', 'Government Integrity', 'Tax Burden', 'Government Spending', 'Business Freedom', 'Labor Freedom', 'Monetary Freedom', 'Trade Freedom', 'Investment Freedom', 'Financial Freedom'])\n",
    "    pred = model.predict(df1)\n",
    "    print(\"Predicted HDI:\")\n",
    "    return pred[0]"
   ]
  },
  {
   "cell_type": "code",
   "execution_count": 13,
   "id": "584ea2ca",
   "metadata": {},
   "outputs": [
    {
     "data": {
      "text/html": [
       "<style>#sk-container-id-1 {color: black;background-color: white;}#sk-container-id-1 pre{padding: 0;}#sk-container-id-1 div.sk-toggleable {background-color: white;}#sk-container-id-1 label.sk-toggleable__label {cursor: pointer;display: block;width: 100%;margin-bottom: 0;padding: 0.3em;box-sizing: border-box;text-align: center;}#sk-container-id-1 label.sk-toggleable__label-arrow:before {content: \"▸\";float: left;margin-right: 0.25em;color: #696969;}#sk-container-id-1 label.sk-toggleable__label-arrow:hover:before {color: black;}#sk-container-id-1 div.sk-estimator:hover label.sk-toggleable__label-arrow:before {color: black;}#sk-container-id-1 div.sk-toggleable__content {max-height: 0;max-width: 0;overflow: hidden;text-align: left;background-color: #f0f8ff;}#sk-container-id-1 div.sk-toggleable__content pre {margin: 0.2em;color: black;border-radius: 0.25em;background-color: #f0f8ff;}#sk-container-id-1 input.sk-toggleable__control:checked~div.sk-toggleable__content {max-height: 200px;max-width: 100%;overflow: auto;}#sk-container-id-1 input.sk-toggleable__control:checked~label.sk-toggleable__label-arrow:before {content: \"▾\";}#sk-container-id-1 div.sk-estimator input.sk-toggleable__control:checked~label.sk-toggleable__label {background-color: #d4ebff;}#sk-container-id-1 div.sk-label input.sk-toggleable__control:checked~label.sk-toggleable__label {background-color: #d4ebff;}#sk-container-id-1 input.sk-hidden--visually {border: 0;clip: rect(1px 1px 1px 1px);clip: rect(1px, 1px, 1px, 1px);height: 1px;margin: -1px;overflow: hidden;padding: 0;position: absolute;width: 1px;}#sk-container-id-1 div.sk-estimator {font-family: monospace;background-color: #f0f8ff;border: 1px dotted black;border-radius: 0.25em;box-sizing: border-box;margin-bottom: 0.5em;}#sk-container-id-1 div.sk-estimator:hover {background-color: #d4ebff;}#sk-container-id-1 div.sk-parallel-item::after {content: \"\";width: 100%;border-bottom: 1px solid gray;flex-grow: 1;}#sk-container-id-1 div.sk-label:hover label.sk-toggleable__label {background-color: #d4ebff;}#sk-container-id-1 div.sk-serial::before {content: \"\";position: absolute;border-left: 1px solid gray;box-sizing: border-box;top: 0;bottom: 0;left: 50%;z-index: 0;}#sk-container-id-1 div.sk-serial {display: flex;flex-direction: column;align-items: center;background-color: white;padding-right: 0.2em;padding-left: 0.2em;position: relative;}#sk-container-id-1 div.sk-item {position: relative;z-index: 1;}#sk-container-id-1 div.sk-parallel {display: flex;align-items: stretch;justify-content: center;background-color: white;position: relative;}#sk-container-id-1 div.sk-item::before, #sk-container-id-1 div.sk-parallel-item::before {content: \"\";position: absolute;border-left: 1px solid gray;box-sizing: border-box;top: 0;bottom: 0;left: 50%;z-index: -1;}#sk-container-id-1 div.sk-parallel-item {display: flex;flex-direction: column;z-index: 1;position: relative;background-color: white;}#sk-container-id-1 div.sk-parallel-item:first-child::after {align-self: flex-end;width: 50%;}#sk-container-id-1 div.sk-parallel-item:last-child::after {align-self: flex-start;width: 50%;}#sk-container-id-1 div.sk-parallel-item:only-child::after {width: 0;}#sk-container-id-1 div.sk-dashed-wrapped {border: 1px dashed gray;margin: 0 0.4em 0.5em 0.4em;box-sizing: border-box;padding-bottom: 0.4em;background-color: white;}#sk-container-id-1 div.sk-label label {font-family: monospace;font-weight: bold;display: inline-block;line-height: 1.2em;}#sk-container-id-1 div.sk-label-container {text-align: center;}#sk-container-id-1 div.sk-container {/* jupyter's `normalize.less` sets `[hidden] { display: none; }` but bootstrap.min.css set `[hidden] { display: none !important; }` so we also need the `!important` here to be able to override the default hidden behavior on the sphinx rendered scikit-learn.org. See: https://github.com/scikit-learn/scikit-learn/issues/21755 */display: inline-block !important;position: relative;}#sk-container-id-1 div.sk-text-repr-fallback {display: none;}</style><div id=\"sk-container-id-1\" class=\"sk-top-container\"><div class=\"sk-text-repr-fallback\"><pre>RandomForestRegressor()</pre><b>In a Jupyter environment, please rerun this cell to show the HTML representation or trust the notebook. <br />On GitHub, the HTML representation is unable to render, please try loading this page with nbviewer.org.</b></div><div class=\"sk-container\" hidden><div class=\"sk-item\"><div class=\"sk-estimator sk-toggleable\"><input class=\"sk-toggleable__control sk-hidden--visually\" id=\"sk-estimator-id-1\" type=\"checkbox\" checked><label for=\"sk-estimator-id-1\" class=\"sk-toggleable__label sk-toggleable__label-arrow\">RandomForestRegressor</label><div class=\"sk-toggleable__content\"><pre>RandomForestRegressor()</pre></div></div></div></div></div>"
      ],
      "text/plain": [
       "RandomForestRegressor()"
      ]
     },
     "execution_count": 13,
     "metadata": {},
     "output_type": "execute_result"
    }
   ],
   "source": [
    "from sklearn.ensemble import RandomForestRegressor\n",
    "from sklearn.model_selection import train_test_split\n",
    "\n",
    "#set up random seed\n",
    "\n",
    "np.random.seed(42)\n",
    "X = df.drop(['Country', 'Index Year', 'HDI'], axis=1)\n",
    "y = df['HDI']\n",
    "\n",
    "X_train, X_test, y_train, y_test = train_test_split(X, y, test_size=0.2)\n",
    "\n",
    "model = RandomForestRegressor()\n",
    "model.fit(X_train, y_train)\n",
    "\n",
    "model.score(X_test, y_test)\n",
    "\n"
   ]
  },
  {
   "cell_type": "code",
   "execution_count": 15,
   "id": "84278484",
   "metadata": {},
   "outputs": [],
   "source": [
    "def floatBox(str):\n",
    "   return widgets.BoundedFloatText(\n",
    "value=50,\n",
    "min=0,\n",
    "max=100,\n",
    "step=0.1,\n",
    "description=str,\n",
    "disabled=False)"
   ]
  },
  {
   "cell_type": "code",
   "execution_count": 16,
   "id": "1e3c4243",
   "metadata": {},
   "outputs": [
    {
     "data": {
      "application/vnd.jupyter.widget-view+json": {
       "model_id": "1c4fa692fdb549a3ab38a369365e6f39",
       "version_major": 2,
       "version_minor": 0
      },
      "text/plain": [
       "interactive(children=(BoundedFloatText(value=50.0, description='Property Rights', step=0.1), BoundedFloatText(…"
      ]
     },
     "metadata": {},
     "output_type": "display_data"
    },
    {
     "data": {
      "text/plain": [
       "<function __main__.predictHDI(PR, GI, TB, GS, BF, LF, MF, TF, IF, FF)>"
      ]
     },
     "execution_count": 16,
     "metadata": {},
     "output_type": "execute_result"
    }
   ],
   "source": [
    "PR=floatBox('Property Rights')\n",
    "GI=floatBox('Government Integrity')\n",
    "TB=floatBox('Tax Burden')\n",
    "GS=floatBox('Government Spending')\n",
    "BF=floatBox('Business Freedom')\n",
    "LF=floatBox('Labor Freedom')\n",
    "MF=floatBox('Monetary Freedom')\n",
    "TF=floatBox('Trade Freedom')\n",
    "IF=floatBox('Investment Freedom')\n",
    "FF=floatBox('Financial Freedom')\n",
    "\n",
    "#display(PR), display(GI), display(TB), display(GS), display(BF), display(LF), display(MF), display(TF), display(IF), display(FF)\n",
    "\n",
    "#predictHDI(PR.value, GI.value, TB.value, GS.value, BF.value, LF.value, MF.value, TF.value, IF.value, FF.value)\n",
    "\n",
    "widgets.interact(predictHDI, PR=PR, GI=GI, TB=TB, GS=GS, BF=BF, LF=LF, MF=MF, TF=TF, IF=IF, FF=FF)\n",
    "#print(\"Projected HDI\")"
   ]
  },
  {
   "cell_type": "code",
   "execution_count": 17,
   "id": "fa58a91c",
   "metadata": {},
   "outputs": [],
   "source": [
    "data = ['web: voila —port=$PORT —no-browser RegressionPlottingFunction.ipynb']\n",
    "df5 = pd.DataFrame(data)\n",
    "df5.to_csv('Procfile')"
   ]
  },
  {
   "cell_type": "code",
   "execution_count": null,
   "id": "503751ac",
   "metadata": {},
   "outputs": [],
   "source": []
  }
 ],
 "metadata": {
  "kernelspec": {
   "display_name": "Python 3 (ipykernel)",
   "language": "python",
   "name": "python3"
  },
  "language_info": {
   "codemirror_mode": {
    "name": "ipython",
    "version": 3
   },
   "file_extension": ".py",
   "mimetype": "text/x-python",
   "name": "python",
   "nbconvert_exporter": "python",
   "pygments_lexer": "ipython3",
   "version": "3.10.5"
  }
 },
 "nbformat": 4,
 "nbformat_minor": 5
}
